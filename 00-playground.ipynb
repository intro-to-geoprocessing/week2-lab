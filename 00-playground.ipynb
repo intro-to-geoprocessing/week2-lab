{
 "metadata": {
  "language_info": {
   "codemirror_mode": {
    "name": "ipython",
    "version": 3
   },
   "file_extension": ".py",
   "mimetype": "text/x-python",
   "name": "python",
   "nbconvert_exporter": "python",
   "pygments_lexer": "ipython3",
   "version": "3.8.3-final"
  },
  "orig_nbformat": 2,
  "kernelspec": {
   "name": "Python 3.8.3 64-bit ('.venv')",
   "display_name": "Python 3.8.3 64-bit ('.venv')",
   "metadata": {
    "interpreter": {
     "hash": "3bcff7d3cbd8203d74f5298bba0151f23c5aa39b910da6c72df8636a1ff93a87"
    }
   }
  }
 },
 "nbformat": 4,
 "nbformat_minor": 2,
 "cells": [
  {
   "source": [
    "# Notebook playground\n",
    "\n",
    "This is just a sandbox notebook to get familiar with its properties. Note how this is just plain text (markdown)."
   ],
   "cell_type": "markdown",
   "metadata": {}
  },
  {
   "cell_type": "code",
   "execution_count": 3,
   "metadata": {
    "tags": []
   },
   "outputs": [
    {
     "output_type": "stream",
     "name": "stdout",
     "text": "area is  600  units\n"
    }
   ],
   "source": [
    "# this is real python code\n",
    "width = 20\n",
    "length = 30\n",
    "area = width * length\n",
    "print('area is ', area, ' units')"
   ]
  }
 ]
}